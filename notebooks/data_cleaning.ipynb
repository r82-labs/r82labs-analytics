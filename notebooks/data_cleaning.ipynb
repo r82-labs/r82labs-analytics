{
 "cells": [
  {
   "cell_type": "code",
   "execution_count": 9,
   "id": "4433f3f2",
   "metadata": {},
   "outputs": [],
   "source": [
    "import polars as pl\n",
    "from r82labs_analytics import default_empty_cells\n",
    "from datetime import date\n",
    "\n",
    "df = pl.DataFrame(\n",
    "        {\n",
    "            \"a\": [1, None, 3, None],\n",
    "            \"b\": [\"x\", \"y\", None, \"y\"],\n",
    "            \"c\": [True, None, False, False],\n",
    "            \"d\": [date(2020, 1, 1), None, date(2020, 1, 3), date(2020, 1, 4)],\n",
    "        }\n",
    "    )\n",
    "\n",
    "df_transformed = default_empty_cells(df)"
   ]
  },
  {
   "cell_type": "code",
   "execution_count": 10,
   "id": "88592f56",
   "metadata": {},
   "outputs": [
    {
     "data": {
      "text/html": [
       "<div><style>\n",
       ".dataframe > thead > tr,\n",
       ".dataframe > tbody > tr {\n",
       "  text-align: right;\n",
       "  white-space: pre-wrap;\n",
       "}\n",
       "</style>\n",
       "<small>shape: (4, 4)</small><table border=\"1\" class=\"dataframe\"><thead><tr><th>a</th><th>b</th><th>c</th><th>d</th></tr><tr><td>i64</td><td>str</td><td>bool</td><td>date</td></tr></thead><tbody><tr><td>1</td><td>&quot;x&quot;</td><td>true</td><td>2020-01-01</td></tr><tr><td>null</td><td>&quot;y&quot;</td><td>null</td><td>null</td></tr><tr><td>3</td><td>null</td><td>false</td><td>2020-01-03</td></tr><tr><td>null</td><td>&quot;y&quot;</td><td>false</td><td>2020-01-04</td></tr></tbody></table></div>"
      ],
      "text/plain": [
       "shape: (4, 4)\n",
       "┌──────┬──────┬───────┬────────────┐\n",
       "│ a    ┆ b    ┆ c     ┆ d          │\n",
       "│ ---  ┆ ---  ┆ ---   ┆ ---        │\n",
       "│ i64  ┆ str  ┆ bool  ┆ date       │\n",
       "╞══════╪══════╪═══════╪════════════╡\n",
       "│ 1    ┆ x    ┆ true  ┆ 2020-01-01 │\n",
       "│ null ┆ y    ┆ null  ┆ null       │\n",
       "│ 3    ┆ null ┆ false ┆ 2020-01-03 │\n",
       "│ null ┆ y    ┆ false ┆ 2020-01-04 │\n",
       "└──────┴──────┴───────┴────────────┘"
      ]
     },
     "execution_count": 10,
     "metadata": {},
     "output_type": "execute_result"
    }
   ],
   "source": [
    "df"
   ]
  },
  {
   "cell_type": "code",
   "execution_count": 11,
   "id": "079ee5e1",
   "metadata": {},
   "outputs": [
    {
     "data": {
      "text/html": [
       "<div><style>\n",
       ".dataframe > thead > tr,\n",
       ".dataframe > tbody > tr {\n",
       "  text-align: right;\n",
       "  white-space: pre-wrap;\n",
       "}\n",
       "</style>\n",
       "<small>shape: (4, 4)</small><table border=\"1\" class=\"dataframe\"><thead><tr><th>a</th><th>b</th><th>c</th><th>d</th></tr><tr><td>f64</td><td>str</td><td>bool</td><td>date</td></tr></thead><tbody><tr><td>1.0</td><td>&quot;x&quot;</td><td>true</td><td>2020-01-01</td></tr><tr><td>2.0</td><td>&quot;y&quot;</td><td>false</td><td>2020-01-04</td></tr><tr><td>3.0</td><td>&quot;y&quot;</td><td>false</td><td>2020-01-03</td></tr><tr><td>2.0</td><td>&quot;y&quot;</td><td>false</td><td>2020-01-04</td></tr></tbody></table></div>"
      ],
      "text/plain": [
       "shape: (4, 4)\n",
       "┌─────┬─────┬───────┬────────────┐\n",
       "│ a   ┆ b   ┆ c     ┆ d          │\n",
       "│ --- ┆ --- ┆ ---   ┆ ---        │\n",
       "│ f64 ┆ str ┆ bool  ┆ date       │\n",
       "╞═════╪═════╪═══════╪════════════╡\n",
       "│ 1.0 ┆ x   ┆ true  ┆ 2020-01-01 │\n",
       "│ 2.0 ┆ y   ┆ false ┆ 2020-01-04 │\n",
       "│ 3.0 ┆ y   ┆ false ┆ 2020-01-03 │\n",
       "│ 2.0 ┆ y   ┆ false ┆ 2020-01-04 │\n",
       "└─────┴─────┴───────┴────────────┘"
      ]
     },
     "execution_count": 11,
     "metadata": {},
     "output_type": "execute_result"
    }
   ],
   "source": [
    "df_transformed"
   ]
  }
 ],
 "metadata": {
  "kernelspec": {
   "display_name": "r82labs-analytics-py3.13",
   "language": "python",
   "name": "python3"
  },
  "language_info": {
   "codemirror_mode": {
    "name": "ipython",
    "version": 3
   },
   "file_extension": ".py",
   "mimetype": "text/x-python",
   "name": "python",
   "nbconvert_exporter": "python",
   "pygments_lexer": "ipython3",
   "version": "3.13.7"
  }
 },
 "nbformat": 4,
 "nbformat_minor": 5
}
